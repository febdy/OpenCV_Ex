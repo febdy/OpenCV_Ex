{
 "cells": [
  {
   "cell_type": "code",
   "execution_count": 2,
   "metadata": {},
   "outputs": [],
   "source": [
    "import numpy as np\n",
    "import cv2"
   ]
  },
  {
   "cell_type": "code",
   "execution_count": 24,
   "metadata": {},
   "outputs": [],
   "source": [
    "im = cv2.imread(\"taylor.jpg\")\n",
    "im = cv2.resize(im, None, fx=0.25, fy=0.25, interpolation = cv2.INTER_CUBIC)\n",
    "imgray = cv2.cvtColor(im, cv2.COLOR_BGR2GRAY)\n",
    "ret, thresh = cv2.threshold(imgray, 127, 555, 0)\n",
    "\n",
    "image, contours, heirarchy = cv2.findContours(thresh, cv2.RETR_TREE, cv2.CHAIN_APPROX_NONE)\n",
    "#cv2.CHAIN_APPROX_NONE - 모든 엣지 다 저장\n",
    "#cv2.CHAIN_APPROX_SIMPLE - 최소한의 포인트만 저장해서 메모리 절약"
   ]
  },
  {
   "cell_type": "code",
   "execution_count": 25,
   "metadata": {},
   "outputs": [],
   "source": [
    "img = cv2.drawContours(image, contours, -1, (0, 255, 0), 3)"
   ]
  },
  {
   "cell_type": "code",
   "execution_count": 26,
   "metadata": {},
   "outputs": [],
   "source": [
    "cnt = contours[4]\n",
    "img = cv2.drawContours(image, [cnt], -1, (0, 255, 0), 3)\n"
   ]
  },
  {
   "cell_type": "code",
   "execution_count": 27,
   "metadata": {},
   "outputs": [],
   "source": [
    "cv2.imshow('img',img)\n",
    "cv2.waitKey(0)\n",
    "cv2.destroyAllWindows()"
   ]
  },
  {
   "cell_type": "code",
   "execution_count": 44,
   "metadata": {},
   "outputs": [
    {
     "data": {
      "text/plain": [
       "{'m00': 0.5,\n",
       " 'm01': 111.83333333333333,\n",
       " 'm02': 25013.416666666664,\n",
       " 'm03': 5594679.95,\n",
       " 'm10': 149.33333333333331,\n",
       " 'm11': 33400.875,\n",
       " 'm12': 7470667.566666666,\n",
       " 'm20': 44600.916666666664,\n",
       " 'm21': 9975730.066666666,\n",
       " 'm30': 13320823.700000001,\n",
       " 'mu02': 0.027777777777373558,\n",
       " 'mu03': -0.0037037022411823273,\n",
       " 'mu11': -0.01388888888322981,\n",
       " 'mu12': 0.0018518506549316527,\n",
       " 'mu20': 0.027777777788287494,\n",
       " 'mu21': 0.001851848493970465,\n",
       " 'mu30': -0.0037037059664726257,\n",
       " 'nu02': 0.11111111110949423,\n",
       " 'nu03': -0.0209513037618867,\n",
       " 'nu11': -0.05555555553291924,\n",
       " 'nu12': 0.010475649246775368,\n",
       " 'nu20': 0.11111111115314998,\n",
       " 'nu21': 0.01047563702253289,\n",
       " 'nu30': -0.020951324835310956}"
      ]
     },
     "execution_count": 44,
     "metadata": {},
     "output_type": "execute_result"
    }
   ],
   "source": [
    "img = cv2.imread('check.jpg',0)\n",
    "ret, thresh = cv2.threshold(img, 127, 255, 0)\n",
    "image, contours, hierarchy = cv2.findContours(thresh, 1, 2)\n",
    "\n",
    "cnt = contours[0]\n",
    "M = cv2.moments(cnt)\n",
    "M"
   ]
  },
  {
   "cell_type": "code",
   "execution_count": 45,
   "metadata": {},
   "outputs": [
    {
     "data": {
      "text/plain": [
       "0.5"
      ]
     },
     "execution_count": 45,
     "metadata": {},
     "output_type": "execute_result"
    }
   ],
   "source": [
    "area = cv2.contourArea(cnt)\n",
    "area"
   ]
  },
  {
   "cell_type": "code",
   "execution_count": 46,
   "metadata": {},
   "outputs": [],
   "source": [
    "cv2.imshow('img',image)\n",
    "cv2.waitKey(0)\n",
    "cv2.destroyAllWindows()"
   ]
  },
  {
   "cell_type": "code",
   "execution_count": null,
   "metadata": {},
   "outputs": [],
   "source": []
  }
 ],
 "metadata": {
  "kernelspec": {
   "display_name": "Python 3",
   "language": "python",
   "name": "python3"
  },
  "language_info": {
   "codemirror_mode": {
    "name": "ipython",
    "version": 3
   },
   "file_extension": ".py",
   "mimetype": "text/x-python",
   "name": "python",
   "nbconvert_exporter": "python",
   "pygments_lexer": "ipython3",
   "version": "3.6.4"
  }
 },
 "nbformat": 4,
 "nbformat_minor": 2
}
