{
 "cells": [
  {
   "cell_type": "code",
   "execution_count": 2,
   "metadata": {},
   "outputs": [],
   "source": [
    "import numpy as np\n",
    "import cv2"
   ]
  },
  {
   "cell_type": "code",
   "execution_count": 3,
   "metadata": {},
   "outputs": [
    {
     "name": "stdout",
     "output_type": "stream",
     "text": [
      "3.4.1\n"
     ]
    }
   ],
   "source": [
    "print(cv2.__version__)"
   ]
  },
  {
   "cell_type": "code",
   "execution_count": 3,
   "metadata": {},
   "outputs": [],
   "source": [
    "# 영상 흑백으로 한 뒤 재생\n",
    "cap = cv2.VideoCapture('radioactive.mp4')\n",
    "\n",
    "#res = cv2.resize(img, None, fx=0.25, fy=0.25, interpolation = cv2.INTER_CUBIC)\n",
    "while(cap.isOpened()):\n",
    "    ret, frame = cap.read()\n",
    "\n",
    "    gray = cv2.cvtColor(frame, 0)\n",
    "#    gray = cv2.resize(gray, None, fx=0.25, fy=0.25, interpolation = cv2.INTER_CUBIC) #사이즈 조절\n",
    "    \n",
    "    cv2.imshow('frame',gray)\n",
    "    if cv2.waitKey(25) & 0xFF == ord('q'):\n",
    "        break\n",
    "\n",
    "cap.release()\n",
    "cv2.destroyAllWindows()"
   ]
  },
  {
   "cell_type": "code",
   "execution_count": 6,
   "metadata": {},
   "outputs": [],
   "source": [
    "# 영상 저장하기\n",
    "cap = cv2.VideoCapture('cats.mp4')\n",
    "\n",
    "w = cap.get(cv2.CAP_PROP_FRAME_WIDTH)\n",
    "h = cap.get(cv2.CAP_PROP_FRAME_HEIGHT)\n",
    "\n",
    "# Define the codec and create VideoWriter object\n",
    "fourcc = cv2.VideoWriter_fourcc(*'DIVX')\n",
    "out = cv2.VideoWriter('output.mp4',fourcc, 20.0, (int(w), int(h)))\n",
    "\n",
    "while(cap.isOpened()):\n",
    "    ret, frame = cap.read()\n",
    "    if ret==True:\n",
    "        frame = cv2.flip(frame, -1)\n",
    "        frame = cv2.line(frame,(0,0),(511,511),(255,0,0),5) # 선\n",
    "\n",
    "        # write the flipped frame\n",
    "        out.write(frame)\n",
    "\n",
    "        cv2.imshow('frame',frame)\n",
    "        if cv2.waitKey(30) & 0xFF == ord('q'):\n",
    "            break\n",
    "    else:\n",
    "        break\n",
    "\n",
    "# Release everything if job is finished\n",
    "cap.release()\n",
    "out.release()\n",
    "cv2.destroyAllWindows()"
   ]
  },
  {
   "cell_type": "code",
   "execution_count": 5,
   "metadata": {},
   "outputs": [],
   "source": [
    "#영상 합치기\n",
    "\n",
    "cap = cv2.VideoCapture('moms.mp4')\n",
    "cap2 = cv2.VideoCapture('moms.mp4')\n",
    "\n",
    "while True:\n",
    "    ret, frame1 = cap.read()\n",
    "    ret2, frame2 = cap2.read()\n",
    "\n",
    "    if ret:\n",
    "        frame2 = cv2.resize(frame2, None, fx=0.25, fy=0.25, interpolation = cv2.INTER_CUBIC)\n",
    "\n",
    "        height = frame2.shape[0]\n",
    "        width = frame2.shape[1]\n",
    "\n",
    "        frame1[100:100+height, 100:100+width] = frame2[:height, :width]\n",
    "\n",
    "        cv2.imshow('frame',frame1)\n",
    "\n",
    "        if cv2.waitKey(1) & 0xFF == ord('q'):\n",
    "            break\n",
    "    else:\n",
    "        break\n",
    "\n",
    "cap.release()\n",
    "cv2.destroyAllWindows()"
   ]
  },
  {
   "cell_type": "code",
   "execution_count": 11,
   "metadata": {},
   "outputs": [],
   "source": [
    "#영상 합치기 & 저장\n",
    "\n",
    "cap = cv2.VideoCapture('moms.mp4')\n",
    "cap2 = cv2.VideoCapture('moms.mp4')\n",
    "\n",
    "w = cap.get(cv2.CAP_PROP_FRAME_WIDTH)\n",
    "h = cap.get(cv2.CAP_PROP_FRAME_HEIGHT)\n",
    "\n",
    "# Define the codec and create VideoWriter object\n",
    "fourcc = cv2.VideoWriter_fourcc(*'DIVX')\n",
    "out = cv2.VideoWriter('output.mp4',fourcc, 20.0, (int(w), int(h)))\n",
    "\n",
    "while True:\n",
    "    ret, frame1 = cap.read()\n",
    "    ret2, frame2 = cap2.read()\n",
    "\n",
    "    if ret:\n",
    "        frame2 = cv2.resize(frame2, None, fx=0.25, fy=0.25, interpolation = cv2.INTER_CUBIC)\n",
    "\n",
    "        height = frame2.shape[0]\n",
    "        width = frame2.shape[1]\n",
    "\n",
    "        frame1[100:100+height, 100:100+width] = frame2[:height, :width]\n",
    "        \n",
    "        out.write(frame1)\n",
    "\n",
    "        cv2.imshow('frame',frame1)\n",
    "\n",
    "        if cv2.waitKey(50) & 0xFF == ord('q'):\n",
    "            break\n",
    "    else:\n",
    "        break\n",
    "\n",
    "cap.release()\n",
    "out.release()\n",
    "cv2.destroyAllWindows()"
   ]
  },
  {
   "cell_type": "code",
   "execution_count": null,
   "metadata": {},
   "outputs": [],
   "source": []
  }
 ],
 "metadata": {
  "kernelspec": {
   "display_name": "Python 3",
   "language": "python",
   "name": "python3"
  }
 },
 "nbformat": 4,
 "nbformat_minor": 2
}
